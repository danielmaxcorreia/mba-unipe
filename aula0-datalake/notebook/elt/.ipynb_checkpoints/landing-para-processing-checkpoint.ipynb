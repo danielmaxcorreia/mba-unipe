{
 "cells": [
  {
   "cell_type": "code",
   "execution_count": 3,
   "id": "6bf91153-0e8d-4c38-9bb1-ee186b13aa0a",
   "metadata": {},
   "outputs": [],
   "source": [
    "\"\"\"\n",
    "Spark Application\n",
    "\"\"\"\n",
    "from pyspark.sql import SparkSession\n",
    "\n",
    "spark = (\n",
    "    SparkSession\n",
    "    .builder\n",
    "    .appName(\"aula0\")\n",
    "    .getOrCreate()\n",
    ")"
   ]
  },
  {
   "cell_type": "code",
   "execution_count": 4,
   "id": "361c639d-7527-49fc-a665-f5f963404c23",
   "metadata": {},
   "outputs": [],
   "source": [
    "path_landing = {\n",
    "    \"user\":\"/home/jovyan/work/datalake/s3/landing-zone/user\",\n",
    "    \"bank\":\"/home/jovyan/work/datalake/s3/landing-zone/bank\"\n",
    "}"
   ]
  },
  {
   "cell_type": "code",
   "execution_count": 5,
   "id": "ed3ba168-2919-4e40-b2a0-a3a2acc5402a",
   "metadata": {},
   "outputs": [],
   "source": [
    "### lendo dados\n",
    "df_user = (\n",
    "    spark\n",
    "    .read\n",
    "    .format(\"json\")\n",
    "    .load(path_landing[\"user\"])\n",
    ")"
   ]
  },
  {
   "cell_type": "code",
   "execution_count": 6,
   "id": "8bdafa21-662a-4aea-b963-0ad434446b19",
   "metadata": {},
   "outputs": [
    {
     "name": "stdout",
     "output_type": "stream",
     "text": [
      "+--------------------+--------------------+--------------------+-------------+--------------------+--------------------+--------------------+----------+-----------+----+---------+----------+--------------------+-----------------------+--------------------+--------------------+-------+----------------+\n",
      "|             address|              avatar|         credit_card|date_of_birth|dt_current_timestamp|               email|          employment|first_name|     gender|  id|last_name|  password|        phone_number|social_insurance_number|        subscription|                 uid|user_id|        username|\n",
      "+--------------------+--------------------+--------------------+-------------+--------------------+--------------------+--------------------+----------+-----------+----+---------+----------+--------------------+-----------------------+--------------------+--------------------+-------+----------------+\n",
      "|{Casieport, {-21....|https://robohash....|     {4135594648602}|   1986-11-08|       1619454547663|daron.bailey@emai...|{Confidence, Glob...|     Daron| Non-binary| 633|   Bailey|OWdxrKXf8t|    +43 396-218-0539|              477348544|{Money transfer, ...|6353cec5-67b5-4ef...|   1703|    daron.bailey|\n",
      "|{East Scottieshir...|https://robohash....|{5318-8912-1789-0...|   1999-04-18|       1619454547663|jonah.barrows@ema...|{Networking skill...|     Jonah|   Bigender|3098|  Barrows|SFWcEO96ql| +996 1-404-010-5986|              195202718|{Paypal, Platinum...|0acd419c-38cd-428...|   3650|   jonah.barrows|\n",
      "|{Zboncakburgh, {-...|https://robohash....|     {4797181467439}|   1986-11-29|       1619454547663|carla.hansen@emai...|{Fast learner, Go...|     Carla|    Agender|6775|   Hansen|n7BSCGcJo3|+46 (993) 071-359...|              387921133|{Alipay, Essentia...|cc2fe946-74a7-412...|   8809|    carla.hansen|\n",
      "|{Orvilleton, {-2....|https://robohash....|{5144-7746-3505-4...|   1985-07-06|       1619454547663|tomas.ledner@emai...|{Teamwork, Region...|     Tomas|Genderfluid|3169|   Ledner|dTgI3l527Q|+670 (895) 368-67...|              133909176|{WeChat Pay, Bron...|5ab9e8fe-dfb7-4bd...|   4606|    tomas.ledner|\n",
      "|{Kossshire, {61.6...|https://robohash....|{4678-2840-8490-6...|   1996-01-18|       1619454547663|alyse.ortiz@email...|{Confidence, Prin...|     Alyse|   Bigender|2625|    Ortiz|rVtSd4C36B|+1-441 1-386-088-...|              671832939|{Credit card, Pla...|799eebc4-6172-4db...|      1|     alyse.ortiz|\n",
      "|{Dakotafort, {86....|https://robohash....|{5469-4445-4667-4...|   1969-08-27|       1619454547663|russell.kulas@ema...|{Confidence, Forw...|   Russell|Genderfluid|  33|    Kulas|ZYOBrVM5zJ|   +809 781.175.2374|              137018248|{WeChat Pay, Esse...|5421c4a1-d6af-49f...|   9245|   russell.kulas|\n",
      "|{Reidside, {-11.8...|https://robohash....|{6771-8919-6500-7...|   1986-01-01|       1619454547663|armida.lehner@ema...|{Proactive, Healt...|    Armida| Non-binary|9555|   Lehner|NzFI9fR6gZ|+82 1-508-937-263...|              269562237|{Money transfer, ...|843cd8c5-6cca-49f...|   3425|   armida.lehner|\n",
      "|{Weissnatside, {3...|https://robohash....|{5136-6092-9908-6...|   1997-07-07|       1619454547663|tad.sanford@email...|{Communication, P...|       Tad| Non-binary| 687|  Sanford|m3NOxrA4yl|   +221 217.401.5988|              297612715|{Cheque, Silver, ...|1f963f4a-17aa-44f...|   4264|     tad.sanford|\n",
      "|{Randallbury, {-8...|https://robohash....|{4733-4334-2326-3...|   1964-10-31|       1619454547663|rosia.jones@email...|{Problem solving,...|     Rosia|Genderqueer|6516|    Jones|CsqaHLOVYT|+1-268 1-284-155-...|              901154872|{Paypal, Gold, Id...|2ef50bf1-1420-41b...|   1668|     rosia.jones|\n",
      "|{Port Cristopherb...|https://robohash....|{5235-8344-0827-7...|   1985-03-13|       1619454547663|candy.conroy@emai...|{Confidence, Inve...|     Candy|    Agender| 294|   Conroy|sGK2iXL1xD| +502 (506) 454-8685|              276197977|{Cheque, Diamond,...|c0f53fde-b02c-423...|    343|    candy.conroy|\n",
      "|{South Diamondsid...|https://robohash....|{5161-0823-5429-2...|   1969-05-26|       1619454547663|dulcie.gottlieb@e...|{Organisation, Ed...|    Dulcie|Genderfluid|8657| Gottlieb|JVcOH9083r| +385 1-648-994-3482|              336402789|{Cash, Gold, Acti...|d0588f5f-7e29-4a5...|   7393| dulcie.gottlieb|\n",
      "|{Lake Genevievebo...|https://robohash....|{5560-9230-8278-5...|   1999-12-08|       1619454547663|rodrigo.reynolds@...|{Teamwork, Chief ...|   Rodrigo|   Bigender|2981| Reynolds|rOxi6L8aEj|+592 (856) 832-46...|              236887741|{Google Pay, Busi...|9088f444-4ebe-4ad...|   3909|rodrigo.reynolds|\n",
      "|{New Arlie, {69.7...|https://robohash....|     {4417088869328}|   1958-10-05|       1619454547663|jenna.bode@email.com|{Technical savvy,...|     Jenna|   Bigender|3792|     Bode|vlTs6IrEQp| +389 1-659-032-5254|              440689354|{Apple Pay, Basic...|ad087810-442c-4bf...|   9952|      jenna.bode|\n",
      "|{East Ronny, {-69...|https://robohash....|{5128-9271-6214-0...|   1964-08-04|       1619454547663|dan.herman@email.com|{Confidence, Cust...|       Dan|Genderfluid| 704|   Herman|iUN8Bf9Gge|+255 1-321-322-61...|              171781677|{Cash, Free Trial...|fae9fb70-7286-4c4...|   2364|      dan.herman|\n",
      "|{Songborough, {2....|https://robohash....|     {4878517026295}|   1958-08-01|       1619454547663|stanley.witting@e...|{Teamwork, Market...|   Stanley|Genderqueer|2018|  Witting|EQeK42GZYL|+501 718.927.3600...|              265713594|{Visa checkout, G...|ee013a87-bd29-45b...|   1611| stanley.witting|\n",
      "|{West Wilfordboro...|https://robohash....|{5323-0404-7788-0...|   1983-09-16|       1619454547663|clarinda.kilback@...|{Self-motivated, ...|  Clarinda|       Male| 584|  Kilback|2Z10Ji8Pze| +370 1-955-662-3669|              622809838|{Credit card, Sil...|d1eb1105-55d4-4c4...|   1723|clarinda.kilback|\n",
      "|{Joelshire, {-12....|https://robohash....|{5156-8345-7428-8...|   1964-04-19|       1619454547663|charley.carroll@e...|{Leadership, Forw...|   Charley| Polygender|1316|  Carroll|7cRSYK9Qus|   +350 628-271-3414|              359788197|{Credit card, Sil...|aa1001bf-8f02-465...|   7032| charley.carroll|\n",
      "|{Torphymouth, {63...|https://robohash....|     {4416807635697}|   1959-11-04|       1619454547663|cameron.harris@em...|{Technical savvy,...|   Cameron|    Agender|6762|   Harris|SojBu2HIbY|+298 676.449.1225...|              400844445|{Apple Pay, Profe...|7f380a79-a7bf-483...|    549|  cameron.harris|\n",
      "|{East Lashawnda, ...|https://robohash....|{6771-8990-0957-4...|   1981-10-29|       1619454547663|reyes.stracke@ema...|{Work under press...|     Reyes|       Male|6392|  Stracke|RyvL7lA3JN| +678 (426) 238-0729|              363141862|{Credit card, Sil...|6198b72c-8929-43b...|   4161|   reyes.stracke|\n",
      "|{Spinkaton, {-30....|https://robohash....|     {4462680767140}|   1992-06-14|       1619454547663|jolynn.schulist@e...|{Leadership, Tech...|    Jolynn|Genderfluid| 947| Schulist|T6euX3H7xv|+962 1-401-278-14...|              552992042|{Google Pay, Esse...|cc02a2ec-f934-430...|    503| jolynn.schulist|\n",
      "+--------------------+--------------------+--------------------+-------------+--------------------+--------------------+--------------------+----------+-----------+----+---------+----------+--------------------+-----------------------+--------------------+--------------------+-------+----------------+\n",
      "only showing top 20 rows\n",
      "\n",
      "root\n",
      " |-- address: struct (nullable = true)\n",
      " |    |-- city: string (nullable = true)\n",
      " |    |-- coordinates: struct (nullable = true)\n",
      " |    |    |-- lat: double (nullable = true)\n",
      " |    |    |-- lng: double (nullable = true)\n",
      " |    |-- country: string (nullable = true)\n",
      " |    |-- state: string (nullable = true)\n",
      " |    |-- street_address: string (nullable = true)\n",
      " |    |-- street_name: string (nullable = true)\n",
      " |    |-- zip_code: string (nullable = true)\n",
      " |-- avatar: string (nullable = true)\n",
      " |-- credit_card: struct (nullable = true)\n",
      " |    |-- cc_number: string (nullable = true)\n",
      " |-- date_of_birth: string (nullable = true)\n",
      " |-- dt_current_timestamp: long (nullable = true)\n",
      " |-- email: string (nullable = true)\n",
      " |-- employment: struct (nullable = true)\n",
      " |    |-- key_skill: string (nullable = true)\n",
      " |    |-- title: string (nullable = true)\n",
      " |-- first_name: string (nullable = true)\n",
      " |-- gender: string (nullable = true)\n",
      " |-- id: long (nullable = true)\n",
      " |-- last_name: string (nullable = true)\n",
      " |-- password: string (nullable = true)\n",
      " |-- phone_number: string (nullable = true)\n",
      " |-- social_insurance_number: string (nullable = true)\n",
      " |-- subscription: struct (nullable = true)\n",
      " |    |-- payment_method: string (nullable = true)\n",
      " |    |-- plan: string (nullable = true)\n",
      " |    |-- status: string (nullable = true)\n",
      " |    |-- term: string (nullable = true)\n",
      " |-- uid: string (nullable = true)\n",
      " |-- user_id: long (nullable = true)\n",
      " |-- username: string (nullable = true)\n",
      "\n"
     ]
    }
   ],
   "source": [
    "### exibindo o dataframe\n",
    "df_user.show()\n",
    "### verificando o schema do dataframe\n",
    "df_user.printSchema()"
   ]
  },
  {
   "cell_type": "code",
   "execution_count": 7,
   "id": "567306c6-f951-46eb-9aea-259f0d6d8846",
   "metadata": {},
   "outputs": [
    {
     "name": "stdout",
     "output_type": "stream",
     "text": [
      "+--------------+--------------------+--------------------+--------------------+----+--------------+-----------+--------------------+-------+\n",
      "|account_number|           bank_name|dt_current_timestamp|                iban|  id|routing_number|  swift_bic|                 uid|user_id|\n",
      "+--------------+--------------------+--------------------+--------------------+----+--------------+-----------+--------------------+-------+\n",
      "|    7320834088|ABN AMRO HOARE GO...|       1621352186397|GB50RCLB435176715...|4796|     251572316|BOFAGB4TIPA|e90b2938-deb5-430...|   9975|\n",
      "|    7467060749|ABN AMRO MEZZANIN...|       1621352186397|GB44TYKV551022700...| 861|     300679144|ANTSGB2LCHA|f6fa9d04-f772-4b0...|   9926|\n",
      "|    5010092952|ABN AMRO HOARE GO...|       1621352186397|GB87IIXG134617446...|1807|     706669295|UBKLGB2LXXX|454a5b80-65eb-458...|   5981|\n",
      "|    2038687205|UBS CLEARING AND ...|       1621352186397|GB00SNQA493665279...|1953|     679077561|   AANLGB2L|7c603e59-125f-42b...|   6756|\n",
      "|    1587066166|ABN AMRO HOARE GO...|       1621352186397|GB42TNIE334085043...|9434|     098879573|BCYPGB2LCSB|56e873c5-d510-47e...|   9175|\n",
      "|    6388053049|ABBOTSTONE AGRICU...|       1621352186397|GB37LUOF810938630...|8038|     801066544|   ABCEGB2L|eb273e88-1264-407...|   7848|\n",
      "|    9005400212|ABINGWORTH MANAGE...|       1621352186397|GB82FSYF715692598...| 631|     685232280|BARBGB2LLEI|a1aa3b78-4a4a-4d3...|   5552|\n",
      "|    5450421232|ABN AMRO HOARE GO...|       1621352186397|GB77MMAX127462497...|8541|     640430771|BCYPGB2LPGB|2c809f6c-f140-412...|   6111|\n",
      "|    6128886941|ABN AMRO CORPORAT...|       1621352186397|GB13EAQN731975103...|3488|     269785632|BOFAGB4TIPA|f7d07cb5-2b0b-44f...|   2942|\n",
      "|    5078734151|          ABBEY LIFE|       1621352186397|GB55JFQD125993400...|2956|     035860891|BKCHGB2UXXX|688d8425-ee46-4b6...|   3062|\n",
      "|    0680450777|ABN AMRO HOARE GO...|       1621352186397|GB02TOMK600800877...|9823|     651290502|BARBGB2LKEN|97cf839c-9699-4a1...|   3687|\n",
      "|    4644752809|OTKRITIE SECURITI...|       1621352186397|GB35WKGB618397053...|3405|     219792701|BRBAGB2LXXX|51abb3db-d32b-40d...|   3696|\n",
      "|    0180111865|    SANTANDER UK PLC|       1621352186397|GB56YWWT470515178...|7011|     215094762|BARBGB2LSOU|5eaf6cc7-6ceb-42c...|   9749|\n",
      "|    4988290613|ABC INTERNATIONAL...|       1621352186397|GB83BWYO448636424...|3928|     687370425|BOFAGB4TCDO|640d5392-11ee-473...|   9886|\n",
      "|    4340866238|ABN AMRO CORPORAT...|       1621352186397|GB35URVH806549557...|3768|     117315235|BCYPGB2LXXX|55037bdb-ca1f-4b1...|   5755|\n",
      "|    5387662201|UBS CLEARING AND ...|       1621352186397|GB48YJVP653856361...|7451|     279658555|AKBKGB22XXX|547134b1-1a1a-47f...|   4202|\n",
      "|    3632858511|ABN AMRO FUND MAN...|       1621352186397|GB13QFUF083220467...|5792|     265490565|   AAPUGB21|062c251a-3528-47e...|   6730|\n",
      "|    6708068001|THE ROYAL BANK OF...|       1621352186397|GB17QJMF387530348...| 145|     024276247|BOFAGB22SCP|9ff00f5a-b8e1-4d8...|   3826|\n",
      "|    1196309274|    SANTANDER UK PLC|       1621352186397|GB83VAPO310592298...|8046|     041714575|   AAOGGB21|f3b5fdda-fb9e-44d...|   8491|\n",
      "|    0927047839|ABN AMRO CORPORAT...|       1621352186397|GB60NQOF068597064...|5581|     034371640|   AAQIGB21|612aefa0-8074-434...|   6981|\n",
      "+--------------+--------------------+--------------------+--------------------+----+--------------+-----------+--------------------+-------+\n",
      "only showing top 20 rows\n",
      "\n",
      "root\n",
      " |-- account_number: string (nullable = true)\n",
      " |-- bank_name: string (nullable = true)\n",
      " |-- dt_current_timestamp: long (nullable = true)\n",
      " |-- iban: string (nullable = true)\n",
      " |-- id: long (nullable = true)\n",
      " |-- routing_number: string (nullable = true)\n",
      " |-- swift_bic: string (nullable = true)\n",
      " |-- uid: string (nullable = true)\n",
      " |-- user_id: long (nullable = true)\n",
      "\n"
     ]
    }
   ],
   "source": [
    "### lendo dados\n",
    "df_bank = (\n",
    "    spark\n",
    "    .read\n",
    "    .format(\"json\")\n",
    "    .load(path_landing[\"bank\"])\n",
    ")\n",
    "\n",
    "### exibindo o dataframe\n",
    "df_bank.show()\n",
    "### verificando o schema do dataframe\n",
    "df_bank.printSchema()"
   ]
  },
  {
   "cell_type": "code",
   "execution_count": 9,
   "id": "6ad4f6ed-89c2-4e7e-9966-9f5a3f5dfb16",
   "metadata": {},
   "outputs": [
    {
     "name": "stdout",
     "output_type": "stream",
     "text": [
      "root\n",
      " |-- user_id: long (nullable = true)\n",
      " |-- username: string (nullable = true)\n",
      " |-- email: string (nullable = true)\n",
      " |-- phone_number: string (nullable = true)\n",
      "\n",
      "root\n",
      " |-- user_id: long (nullable = true)\n",
      " |-- bank_name: string (nullable = true)\n",
      "\n"
     ]
    }
   ],
   "source": [
    "### selecionando colunas\n",
    "df_user = (\n",
    "    df_user\n",
    "    .select(\"user_id\",\"username\",\"email\",\"phone_number\")\n",
    ")\n",
    "\n",
    "df_user.printSchema()\n",
    "\n",
    "df_bank = (\n",
    "    df_bank\n",
    "    .select(\"user_id\",\"bank_name\")\n",
    ")\n",
    "\n",
    "df_bank.printSchema()"
   ]
  },
  {
   "cell_type": "code",
   "execution_count": 10,
   "id": "cb34fece-49f7-45ff-af60-c4395c8ec501",
   "metadata": {},
   "outputs": [],
   "source": [
    "path_processing = {\n",
    "    \"user\":\"/home/jovyan/work/datalake/s3/processing-zone/user\",\n",
    "    \"bank\":\"/home/jovyan/work/datalake/s3/processing-zone/bank\"\n",
    "}"
   ]
  },
  {
   "cell_type": "code",
   "execution_count": 11,
   "id": "4f84f5d6-6c91-4c45-a1da-c34ebe67cffa",
   "metadata": {},
   "outputs": [],
   "source": [
    "### escrevendo dados na processing\n",
    "(\n",
    "    df_user\n",
    "    .write\n",
    "    .mode(\"overwrite\") ### overwrite / append\n",
    "    .format(\"parquet\")\n",
    "    .save(path_processing[\"user\"])\n",
    ")\n",
    "\n",
    "(\n",
    "    df_bank\n",
    "    .write\n",
    "    .mode(\"overwrite\") ### overwrite / append\n",
    "    .format(\"parquet\")\n",
    "    .save(path_processing[\"bank\"])\n",
    ")"
   ]
  }
 ],
 "metadata": {
  "kernelspec": {
   "display_name": "Python 3 (ipykernel)",
   "language": "python",
   "name": "python3"
  },
  "language_info": {
   "codemirror_mode": {
    "name": "ipython",
    "version": 3
   },
   "file_extension": ".py",
   "mimetype": "text/x-python",
   "name": "python",
   "nbconvert_exporter": "python",
   "pygments_lexer": "ipython3",
   "version": "3.9.7"
  }
 },
 "nbformat": 4,
 "nbformat_minor": 5
}
