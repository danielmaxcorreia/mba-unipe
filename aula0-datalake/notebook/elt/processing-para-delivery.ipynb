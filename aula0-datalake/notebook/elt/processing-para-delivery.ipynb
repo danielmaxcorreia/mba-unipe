{
 "cells": [
  {
   "cell_type": "code",
   "execution_count": 1,
   "id": "481f30f0-d6e6-4a8a-ac38-bd18d46e3046",
   "metadata": {},
   "outputs": [],
   "source": [
    "from pyspark.sql import SparkSession\n",
    "\n",
    "spark = (\n",
    "    SparkSession\n",
    "    .builder\n",
    "    .appName(\"aula0\")\n",
    "    .getOrCreate()\n",
    ")"
   ]
  },
  {
   "cell_type": "code",
   "execution_count": 2,
   "id": "0c2c5fa4-10ff-4bb2-9c9e-73185fbd29cb",
   "metadata": {},
   "outputs": [
    {
     "data": {
      "text/html": [
       "\n",
       "            <div>\n",
       "                <p><b>SparkSession - in-memory</b></p>\n",
       "                \n",
       "        <div>\n",
       "            <p><b>SparkContext</b></p>\n",
       "\n",
       "            <p><a href=\"http://a5483c9dfc51:4041\">Spark UI</a></p>\n",
       "\n",
       "            <dl>\n",
       "              <dt>Version</dt>\n",
       "                <dd><code>v3.2.1</code></dd>\n",
       "              <dt>Master</dt>\n",
       "                <dd><code>local[*]</code></dd>\n",
       "              <dt>AppName</dt>\n",
       "                <dd><code>aula0</code></dd>\n",
       "            </dl>\n",
       "        </div>\n",
       "        \n",
       "            </div>\n",
       "        "
      ],
      "text/plain": [
       "<pyspark.sql.session.SparkSession at 0xffff7012bf70>"
      ]
     },
     "execution_count": 2,
     "metadata": {},
     "output_type": "execute_result"
    }
   ],
   "source": [
    "spark"
   ]
  },
  {
   "cell_type": "code",
   "execution_count": 3,
   "id": "903e915b-b0b6-4444-858e-bbbe8845cd0f",
   "metadata": {},
   "outputs": [],
   "source": [
    "path_processing = {\n",
    "    \"user\":\"/home/jovyan/work/datalake/s3/processing-zone/user\",\n",
    "    \"bank\":\"/home/jovyan/work/datalake/s3/processing-zone/bank\"\n",
    "}"
   ]
  },
  {
   "cell_type": "code",
   "execution_count": 4,
   "id": "f5782286-455a-4383-8200-10fa120c9889",
   "metadata": {},
   "outputs": [],
   "source": [
    "# ### lendo dados\n",
    "df_user = (\n",
    "    spark\n",
    "    .read\n",
    "    .format(\"parquet\")\n",
    "    .load(path_processing[\"user\"])\n",
    ")\n",
    "\n",
    "df_user = df_user.alias(\"u\")\n",
    "\n",
    "df_bank = (\n",
    "    spark\n",
    "    .read\n",
    "    .format(\"parquet\")\n",
    "    .load(path_processing[\"bank\"])\n",
    ")\n",
    "\n",
    "df_bank = df_bank.alias(\"b\")"
   ]
  },
  {
   "cell_type": "code",
   "execution_count": 5,
   "id": "728559de-f435-457f-880c-b13cc51a1e06",
   "metadata": {},
   "outputs": [
    {
     "name": "stdout",
     "output_type": "stream",
     "text": [
      "+-------+-----------------+--------------------+--------------------+--------------------+\n",
      "|user_id|         username|               email|        phone_number|           bank_name|\n",
      "+-------+-----------------+--------------------+--------------------+--------------------+\n",
      "|    911|     bryan.hessel|bryan.hessel@emai...| +351 1-376-202-8010|          ABBEY LIFE|\n",
      "|   8189|      sid.pollich|sid.pollich@email...|+86 1-370-764-611...|ALKEN ASSET MANAG...|\n",
      "|   8189|      sid.pollich|sid.pollich@email...|+86 1-370-764-611...|ABN AMRO HOARE GO...|\n",
      "|   6292|   tony.mcdermott|tony.mcdermott@em...| +249 1-761-469-0510|ABN AMRO HOARE GO...|\n",
      "|   6292|   tony.mcdermott|tony.mcdermott@em...| +249 1-761-469-0510|ABN AMRO HOARE GO...|\n",
      "|   6325|   duane.schaefer|duane.schaefer@em...|+91 (491) 908-440...|ALKEN ASSET MANAG...|\n",
      "|   6907|    brigida.upton|brigida.upton@ema...|   +964 416-666-2945|ABBOTSTONE AGRICU...|\n",
      "|   8459|    eunice.barton|eunice.barton@ema...|+258 1-180-295-80...|ABN AMRO MEZZANIN...|\n",
      "|   8459|    eunice.barton|eunice.barton@ema...|+258 1-180-295-80...|ABN AMRO QUOTED I...|\n",
      "|   4098|   fidelia.feeney|fidelia.feeney@em...|+1-939 1-674-159-...|ALKEN ASSET MANAG...|\n",
      "|   9475|    robbyn.spinka|robbyn.spinka@ema...|+267 635-746-2775...|ABN AMRO HOARE GO...|\n",
      "|   4895|     brook.jacobi|brook.jacobi@emai...|+256 (341) 965-49...|ABN AMRO HOARE GO...|\n",
      "|   9873|      samual.king|samual.king@email...|+687 120.737.8882...|ABBOTSTONE AGRICU...|\n",
      "|   7140|    brian.koelpin|brian.koelpin@ema...|   +850 148.245.5399|          ABBEY LIFE|\n",
      "|   4067|  margeret.waters|margeret.waters@e...|+20 (989) 013-603...|ABN AMRO HOARE GO...|\n",
      "|   9997|      boyce.ortiz|boyce.ortiz@email...|+386 381-422-7043...|    SANTANDER UK PLC|\n",
      "|   2266|emmitt.runolfsson|emmitt.runolfsson...|+226 985-135-6389...|ABC INTERNATIONAL...|\n",
      "|   1703|     daron.bailey|daron.bailey@emai...|    +43 396-218-0539|ALLIED BANK PHILI...|\n",
      "|   9245|    russell.kulas|russell.kulas@ema...|   +809 781.175.2374|ABN AMRO HOARE GO...|\n",
      "|    343|     candy.conroy|candy.conroy@emai...| +502 (506) 454-8685|ABG SUNDAL COLLIE...|\n",
      "+-------+-----------------+--------------------+--------------------+--------------------+\n",
      "only showing top 20 rows\n",
      "\n",
      "+--------------------+-----+\n",
      "|           bank_name|count|\n",
      "+--------------------+-----+\n",
      "|ABBOTSTONE AGRICU...|    3|\n",
      "|    SANTANDER UK PLC|    3|\n",
      "|ABN AMRO HOARE GO...|   10|\n",
      "|ALKEN ASSET MANAG...|    7|\n",
      "|ABN AMRO QUOTED I...|    5|\n",
      "|ABN AMRO MEZZANIN...|    1|\n",
      "|          ABBEY LIFE|    4|\n",
      "|ABC INTERNATIONAL...|    6|\n",
      "|ABN AMRO HOARE GO...|    3|\n",
      "|ABN AMRO FUND MAN...|    4|\n",
      "|ABN AMRO CORPORAT...|    4|\n",
      "|UBS CLEARING AND ...|    1|\n",
      "|AAC CAPITAL PARTN...|    1|\n",
      "|ABU DHABI ISLAMIC...|    1|\n",
      "|PGMS (GLASGOW) LI...|    3|\n",
      "|ABG SUNDAL COLLIE...|    1|\n",
      "|ABN AMRO HOARE GO...|    4|\n",
      "|ALLIED BANK PHILI...|    1|\n",
      "|ABINGWORTH MANAGE...|    1|\n",
      "+--------------------+-----+\n",
      "\n"
     ]
    }
   ],
   "source": [
    "from pyspark.sql.functions import col\n",
    "\n",
    "df_user_bank = (\n",
    "    df_user\n",
    "        .join(\n",
    "            df_bank, \n",
    "                col(\"u.user_id\") == col(\"b.user_id\"),\n",
    "                how=\"inner\"\n",
    "        )\n",
    "        .select(\n",
    "            \"u.user_id\",\n",
    "            \"u.username\",\n",
    "            \"u.email\",\n",
    "            \"u.phone_number\",\n",
    "            \"b.bank_name\"\n",
    "        )\n",
    ")\n",
    "\n",
    "df_user_bank.show()\n",
    "\n",
    "agg_df_user_bank = df_user_bank.groupBy(\"bank_name\").count()\n",
    "\n",
    "agg_df_user_bank.show()"
   ]
  },
  {
   "cell_type": "code",
   "execution_count": 9,
   "id": "fb027f51-a43e-4c49-8fe2-72e194474cec",
   "metadata": {},
   "outputs": [],
   "source": [
    "path_delivery = {\n",
    "    \"user_bank\":\"/home/jovyan/work/datalake/s3/delivery-zone/user_bank\",\n",
    "    \"agg_df_user_bank\":\"/home/jovyan/work/datalake/s3/delivery-zone/agg_df_user_bank\"\n",
    "}"
   ]
  },
  {
   "cell_type": "code",
   "execution_count": 14,
   "id": "285d2515-a65e-489c-aa11-23f1c0aee1b7",
   "metadata": {},
   "outputs": [],
   "source": [
    "### escrevendo os dados\n",
    "(\n",
    "    df_user_bank\n",
    "    .write\n",
    "    .partitionBy(\"bank_name\")\n",
    "    .mode(\"overwrite\")\n",
    "    .format(\"parquet\")\n",
    "    .save(path_delivery[\"user_bank\"])\n",
    ")\n",
    "\n",
    "(\n",
    "    agg_df_user_bank\n",
    "    .write\n",
    "    .mode(\"overwrite\")\n",
    "    .format(\"parquet\")\n",
    "    .save(path_delivery[\"agg_df_user_bank\"])\n",
    ")"
   ]
  }
 ],
 "metadata": {
  "kernelspec": {
   "display_name": "Python 3 (ipykernel)",
   "language": "python",
   "name": "python3"
  },
  "language_info": {
   "codemirror_mode": {
    "name": "ipython",
    "version": 3
   },
   "file_extension": ".py",
   "mimetype": "text/x-python",
   "name": "python",
   "nbconvert_exporter": "python",
   "pygments_lexer": "ipython3",
   "version": "3.9.7"
  }
 },
 "nbformat": 4,
 "nbformat_minor": 5
}
